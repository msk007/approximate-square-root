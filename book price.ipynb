{
 "cells": [
  {
   "cell_type": "code",
   "execution_count": 1,
   "metadata": {
    "collapsed": false
   },
   "outputs": [
    {
     "name": "stdout",
     "output_type": "stream",
     "text": [
      "670.8000000000001\n"
     ]
    }
   ],
   "source": [
    "book_price= 24.95\n",
    "shipping=3\n",
    "quantity=60\n",
    "cost=book_price + shipping\n",
    "total= (cost * quantity * .6)\n",
    "print (total)"
   ]
  },
  {
   "cell_type": "code",
   "execution_count": 3,
   "metadata": {
    "collapsed": false
   },
   "outputs": [
    {
     "name": "stdout",
     "output_type": "stream",
     "text": [
      "1006.1999999999999\n"
     ]
    }
   ],
   "source": [
    "book_price= 24.95\n",
    "shipping=3\n",
    "quantity=60\n",
    "cost=book_price + shipping\n",
    "discount=.6\n",
    "total= (cost * quantity * discount)\n",
    "print (total)"
   ]
  },
  {
   "cell_type": "code",
   "execution_count": 8,
   "metadata": {
    "collapsed": false
   },
   "outputs": [],
   "source": [
    "def total(quantity):\n",
    "    shipping=3\n",
    "    quantity=60\n",
    "    cost=book_price + shipping\n",
    "    discount=.6\n",
    "    total= (cost * quantity * discount)\n",
    "    print (round(total, 2))"
   ]
  },
  {
   "cell_type": "code",
   "execution_count": 10,
   "metadata": {
    "collapsed": true
   },
   "outputs": [],
   "source": [
    "def total(quantity=60):\n",
    "    shipping=3\n",
    "    cost=book_price + shipping\n",
    "    discount=0.6\n",
    "    total= (cost * quantity * discount)\n",
    "    print (round(total, 2))"
   ]
  },
  {
   "cell_type": "code",
   "execution_count": 11,
   "metadata": {
    "collapsed": false
   },
   "outputs": [
    {
     "data": {
      "text/plain": [
       "'total'"
      ]
     },
     "execution_count": 11,
     "metadata": {},
     "output_type": "execute_result"
    }
   ],
   "source": [
    "'total'"
   ]
  },
  {
   "cell_type": "code",
   "execution_count": null,
   "metadata": {
    "collapsed": true
   },
   "outputs": [],
   "source": []
  }
 ],
 "metadata": {
  "kernelspec": {
   "display_name": "Python 3",
   "language": "python",
   "name": "python3"
  },
  "language_info": {
   "codemirror_mode": {
    "name": "ipython",
    "version": 3
   },
   "file_extension": ".py",
   "mimetype": "text/x-python",
   "name": "python",
   "nbconvert_exporter": "python",
   "pygments_lexer": "ipython3",
   "version": "3.4.3"
  }
 },
 "nbformat": 4,
 "nbformat_minor": 0
}
